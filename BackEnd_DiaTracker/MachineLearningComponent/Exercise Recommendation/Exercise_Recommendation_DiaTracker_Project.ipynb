{
 "cells": [
  {
   "cell_type": "markdown",
   "id": "02d42205",
   "metadata": {},
   "source": [
    "# Import essential modules\n"
   ]
  },
  {
   "cell_type": "code",
   "execution_count": 1,
   "id": "aee6e15c",
   "metadata": {},
   "outputs": [],
   "source": [
    "import pandas as pd #import pandas library for data analysis\n",
    "import numpy as np #import numpy library for numerical operations\n",
    "import matplotlib.pyplot as plt #import matplotlib library for data visualizations"
   ]
  },
  {
   "cell_type": "markdown",
   "id": "92addedc",
   "metadata": {},
   "source": [
    "# Import dataset file"
   ]
  },
  {
   "cell_type": "code",
   "execution_count": 2,
   "id": "f0a15de0",
   "metadata": {},
   "outputs": [
    {
     "data": {
      "text/html": [
       "<div>\n",
       "<style scoped>\n",
       "    .dataframe tbody tr th:only-of-type {\n",
       "        vertical-align: middle;\n",
       "    }\n",
       "\n",
       "    .dataframe tbody tr th {\n",
       "        vertical-align: top;\n",
       "    }\n",
       "\n",
       "    .dataframe thead th {\n",
       "        text-align: right;\n",
       "    }\n",
       "</style>\n",
       "<table border=\"1\" class=\"dataframe\">\n",
       "  <thead>\n",
       "    <tr style=\"text-align: right;\">\n",
       "      <th></th>\n",
       "      <th>Activity (1H)</th>\n",
       "      <th>Calories per kg</th>\n",
       "      <th>Cluster</th>\n",
       "    </tr>\n",
       "  </thead>\n",
       "  <tbody>\n",
       "    <tr>\n",
       "      <th>0</th>\n",
       "      <td>Cycling, mountain bike, bmx</td>\n",
       "      <td>1.750730</td>\n",
       "      <td>3</td>\n",
       "    </tr>\n",
       "    <tr>\n",
       "      <th>1</th>\n",
       "      <td>Cycling, &lt;10 mph, leisure bicycling</td>\n",
       "      <td>0.823236</td>\n",
       "      <td>6</td>\n",
       "    </tr>\n",
       "    <tr>\n",
       "      <th>2</th>\n",
       "      <td>Cycling, &gt;20 mph, racing</td>\n",
       "      <td>3.294974</td>\n",
       "      <td>2</td>\n",
       "    </tr>\n",
       "    <tr>\n",
       "      <th>3</th>\n",
       "      <td>Cycling, 10-11.9 mph, light</td>\n",
       "      <td>1.234853</td>\n",
       "      <td>9</td>\n",
       "    </tr>\n",
       "    <tr>\n",
       "      <th>4</th>\n",
       "      <td>Cycling, 12-13.9 mph, moderate</td>\n",
       "      <td>1.647825</td>\n",
       "      <td>3</td>\n",
       "    </tr>\n",
       "  </tbody>\n",
       "</table>\n",
       "</div>"
      ],
      "text/plain": [
       "                         Activity (1H)  Calories per kg  Cluster\n",
       "0          Cycling, mountain bike, bmx         1.750730        3\n",
       "1  Cycling, <10 mph, leisure bicycling         0.823236        6\n",
       "2             Cycling, >20 mph, racing         3.294974        2\n",
       "3          Cycling, 10-11.9 mph, light         1.234853        9\n",
       "4       Cycling, 12-13.9 mph, moderate         1.647825        3"
      ]
     },
     "execution_count": 2,
     "metadata": {},
     "output_type": "execute_result"
    }
   ],
   "source": [
    "data_frame = pd.read_csv(\"exercise_csvfile.csv\") \n",
    "data_frame.head() #display the first five rows of the DataFrame"
   ]
  },
  {
   "cell_type": "code",
   "execution_count": 3,
   "id": "9ea182be",
   "metadata": {},
   "outputs": [
    {
     "data": {
      "text/plain": [
       "Index(['Activity (1H)', 'Calories per kg', 'Cluster'], dtype='object')"
      ]
     },
     "execution_count": 3,
     "metadata": {},
     "output_type": "execute_result"
    }
   ],
   "source": [
    "data_frame.columns #display the column names of the DataFrame for understandability"
   ]
  },
  {
   "cell_type": "markdown",
   "id": "c5af0cd7",
   "metadata": {},
   "source": [
    "# Data preprocessing"
   ]
  },
  {
   "cell_type": "code",
   "execution_count": 4,
   "id": "694ff7d0",
   "metadata": {},
   "outputs": [
    {
     "data": {
      "text/plain": [
       "Activity (1H)      0\n",
       "Calories per kg    0\n",
       "Cluster            0\n",
       "dtype: int64"
      ]
     },
     "execution_count": 4,
     "metadata": {},
     "output_type": "execute_result"
    }
   ],
   "source": [
    "data_frame.isnull().sum() #check for missing values in each column of the DataFrame"
   ]
  },
  {
   "cell_type": "code",
   "execution_count": 5,
   "id": "877d8d09",
   "metadata": {},
   "outputs": [
    {
     "data": {
      "text/html": [
       "<div>\n",
       "<style scoped>\n",
       "    .dataframe tbody tr th:only-of-type {\n",
       "        vertical-align: middle;\n",
       "    }\n",
       "\n",
       "    .dataframe tbody tr th {\n",
       "        vertical-align: top;\n",
       "    }\n",
       "\n",
       "    .dataframe thead th {\n",
       "        text-align: right;\n",
       "    }\n",
       "</style>\n",
       "<table border=\"1\" class=\"dataframe\">\n",
       "  <thead>\n",
       "    <tr style=\"text-align: right;\">\n",
       "      <th></th>\n",
       "      <th>Calories per kg</th>\n",
       "      <th>Cluster</th>\n",
       "    </tr>\n",
       "  </thead>\n",
       "  <tbody>\n",
       "    <tr>\n",
       "      <th>count</th>\n",
       "      <td>248.000000</td>\n",
       "      <td>248.000000</td>\n",
       "    </tr>\n",
       "    <tr>\n",
       "      <th>mean</th>\n",
       "      <td>1.359930</td>\n",
       "      <td>4.229839</td>\n",
       "    </tr>\n",
       "    <tr>\n",
       "      <th>std</th>\n",
       "      <td>0.678851</td>\n",
       "      <td>2.760258</td>\n",
       "    </tr>\n",
       "    <tr>\n",
       "      <th>min</th>\n",
       "      <td>0.310067</td>\n",
       "      <td>0.000000</td>\n",
       "    </tr>\n",
       "    <tr>\n",
       "      <th>25%</th>\n",
       "      <td>0.823236</td>\n",
       "      <td>2.000000</td>\n",
       "    </tr>\n",
       "    <tr>\n",
       "      <th>50%</th>\n",
       "      <td>1.234853</td>\n",
       "      <td>4.000000</td>\n",
       "    </tr>\n",
       "    <tr>\n",
       "      <th>75%</th>\n",
       "      <td>1.647825</td>\n",
       "      <td>6.000000</td>\n",
       "    </tr>\n",
       "    <tr>\n",
       "      <th>max</th>\n",
       "      <td>3.706591</td>\n",
       "      <td>9.000000</td>\n",
       "    </tr>\n",
       "  </tbody>\n",
       "</table>\n",
       "</div>"
      ],
      "text/plain": [
       "       Calories per kg     Cluster\n",
       "count       248.000000  248.000000\n",
       "mean          1.359930    4.229839\n",
       "std           0.678851    2.760258\n",
       "min           0.310067    0.000000\n",
       "25%           0.823236    2.000000\n",
       "50%           1.234853    4.000000\n",
       "75%           1.647825    6.000000\n",
       "max           3.706591    9.000000"
      ]
     },
     "execution_count": 5,
     "metadata": {},
     "output_type": "execute_result"
    }
   ],
   "source": [
    "data_frame.describe() #display a basic statistical sumary of each numerical DataFrame column"
   ]
  },
  {
   "cell_type": "code",
   "execution_count": 6,
   "id": "b7de14af",
   "metadata": {},
   "outputs": [
    {
     "data": {
      "text/plain": [
       "Activity (1H)       object\n",
       "Calories per kg    float64\n",
       "Cluster              int64\n",
       "dtype: object"
      ]
     },
     "execution_count": 6,
     "metadata": {},
     "output_type": "execute_result"
    }
   ],
   "source": [
    "data_frame['Calories per kg'] = pd.to_numeric(data_frame['Calories per kg']) #convert the 'Calories per kg' column from object type to numeric data type\n",
    "data_frame.dtypes #display data types of all the columns in the DataFrame"
   ]
  },
  {
   "cell_type": "markdown",
   "id": "40b336f5",
   "metadata": {},
   "source": [
    "# Normalize the data for better perfomance"
   ]
  },
  {
   "cell_type": "code",
   "execution_count": 7,
   "id": "73724c0b",
   "metadata": {},
   "outputs": [],
   "source": [
    "from sklearn.preprocessing import MinMaxScaler #Scale the 'Calories per kg' column using MinMaxScaler from sklearn.preprocessing"
   ]
  },
  {
   "cell_type": "code",
   "execution_count": 8,
   "id": "a0b13b79",
   "metadata": {},
   "outputs": [],
   "source": [
    "features_to_scale = ['Calories per kg']\n",
    "scaler = MinMaxScaler()\n",
    "normalized_data_frame = scaler.fit_transform(data_frame[features_to_scale])"
   ]
  },
  {
   "cell_type": "code",
   "execution_count": 9,
   "id": "dcc99782",
   "metadata": {},
   "outputs": [
    {
     "data": {
      "text/plain": [
       "array([[0.42415786],\n",
       "       [0.15108631],\n",
       "       [0.87881204],\n",
       "       [0.27227427],\n",
       "       [0.39386087],\n",
       "       [0.51504883],\n",
       "       [0.6362368 ],\n",
       "       [0.21187961],\n",
       "       [0.09049233],\n",
       "       [0.2421766 ],\n",
       "       [0.33306757],\n",
       "       [0.54534582],\n",
       "       [0.66673311],\n",
       "       [0.39386087],\n",
       "       [0.12098864],\n",
       "       [0.39386087],\n",
       "       [0.27227427],\n",
       "       [0.09049233],\n",
       "       [0.2421766 ],\n",
       "       [0.45425553],\n",
       "       [0.12098864],\n",
       "       [0.33306757],\n",
       "       [0.42415786],\n",
       "       [0.6362368 ],\n",
       "       [0.33306757],\n",
       "       [0.21187961],\n",
       "       [0.33306757],\n",
       "       [0.42415786],\n",
       "       [0.30277058],\n",
       "       [0.27227427],\n",
       "       [0.15108631],\n",
       "       [0.06039466],\n",
       "       [0.27227427],\n",
       "       [0.15108631],\n",
       "       [0.18178194],\n",
       "       [0.09049233],\n",
       "       [0.2421766 ],\n",
       "       [0.39386087],\n",
       "       [0.45425553],\n",
       "       [0.51504883],\n",
       "       [0.57564281],\n",
       "       [0.6059398 ],\n",
       "       [0.66673311],\n",
       "       [0.72712777],\n",
       "       [0.75742476],\n",
       "       [0.81821806],\n",
       "       [0.87881204],\n",
       "       [1.        ],\n",
       "       [0.45425553],\n",
       "       [0.39386087],\n",
       "       [0.51504883],\n",
       "       [0.81821806],\n",
       "       [0.15108631],\n",
       "       [0.27227427],\n",
       "       [0.51504883],\n",
       "       [0.12098864],\n",
       "       [0.18178194],\n",
       "       [0.39386087],\n",
       "       [0.27227427],\n",
       "       [0.33306757],\n",
       "       [0.18178194],\n",
       "       [0.30277058],\n",
       "       [0.39386087],\n",
       "       [0.06039466],\n",
       "       [0.09049233],\n",
       "       [0.6362368 ],\n",
       "       [0.27227427],\n",
       "       [0.45425553],\n",
       "       [0.15108631],\n",
       "       [0.21187961],\n",
       "       [0.06039466],\n",
       "       [0.15108631],\n",
       "       [0.06039466],\n",
       "       [0.27227427],\n",
       "       [0.45425553],\n",
       "       [0.39386087],\n",
       "       [0.06039466],\n",
       "       [0.09049233],\n",
       "       [0.39386087],\n",
       "       [0.18178194],\n",
       "       [0.18178194],\n",
       "       [0.09049233],\n",
       "       [0.09049233],\n",
       "       [0.16942396],\n",
       "       [0.12098864],\n",
       "       [0.15108631],\n",
       "       [0.15108631],\n",
       "       [0.6362368 ],\n",
       "       [0.39386087],\n",
       "       [0.39386087],\n",
       "       [0.39386087],\n",
       "       [0.15108631],\n",
       "       [0.12098864],\n",
       "       [0.12098864],\n",
       "       [0.30277058],\n",
       "       [0.06039466],\n",
       "       [0.39386087],\n",
       "       [0.27227427],\n",
       "       [0.09049233],\n",
       "       [0.6362368 ],\n",
       "       [0.51504883],\n",
       "       [0.51504883],\n",
       "       [0.51504883],\n",
       "       [0.51504883],\n",
       "       [0.15108631],\n",
       "       [0.33306757],\n",
       "       [0.39386087],\n",
       "       [0.45425553],\n",
       "       [0.27227427],\n",
       "       [0.51504883],\n",
       "       [0.39386087],\n",
       "       [0.51504883],\n",
       "       [0.33306757],\n",
       "       [0.57564281],\n",
       "       [0.39386087],\n",
       "       [0.6362368 ],\n",
       "       [0.51504883],\n",
       "       [0.39386087],\n",
       "       [0.51504883],\n",
       "       [0.09049233],\n",
       "       [0.21187961],\n",
       "       [0.33306757],\n",
       "       [0.6362368 ],\n",
       "       [0.09049233],\n",
       "       [0.51504883],\n",
       "       [0.33306757],\n",
       "       [0.21187961],\n",
       "       [0.15108631],\n",
       "       [0.27227427],\n",
       "       [0.6362368 ],\n",
       "       [0.15108631],\n",
       "       [0.15108631],\n",
       "       [0.33306757],\n",
       "       [0.27227427],\n",
       "       [0.39386087],\n",
       "       [0.12098864],\n",
       "       [0.39386087],\n",
       "       [0.09049233],\n",
       "       [0.39386087],\n",
       "       [0.27227427],\n",
       "       [0.33306757],\n",
       "       [0.33306757],\n",
       "       [0.12098864],\n",
       "       [0.21187961],\n",
       "       [0.27227427],\n",
       "       [0.39386087],\n",
       "       [0.07853299],\n",
       "       [0.15108631],\n",
       "       [0.21187961],\n",
       "       [0.09049233],\n",
       "       [0.09049233],\n",
       "       [0.33306757],\n",
       "       [0.36356388],\n",
       "       [0.39386087],\n",
       "       [0.45425553],\n",
       "       [0.09049233],\n",
       "       [0.27227427],\n",
       "       [0.06039466],\n",
       "       [0.30277058],\n",
       "       [0.21187961],\n",
       "       [0.06039466],\n",
       "       [0.15108631],\n",
       "       [0.30277058],\n",
       "       [0.39386087],\n",
       "       [0.21187961],\n",
       "       [0.09049233],\n",
       "       [0.02989835],\n",
       "       [0.06039466],\n",
       "       [0.09049233],\n",
       "       [0.10882998],\n",
       "       [0.13912697],\n",
       "       [0.27227427],\n",
       "       [0.21187961],\n",
       "       [0.29061192],\n",
       "       [0.39386087],\n",
       "       [0.06039466],\n",
       "       [0.15108631],\n",
       "       [0.09049233],\n",
       "       [0.33306757],\n",
       "       [0.6362368 ],\n",
       "       [0.6362368 ],\n",
       "       [0.21187961],\n",
       "       [0.15108631],\n",
       "       [0.09049233],\n",
       "       [0.21187961],\n",
       "       [0.09049233],\n",
       "       [0.27227427],\n",
       "       [0.33306757],\n",
       "       [0.87881204],\n",
       "       [0.66673311],\n",
       "       [0.33306757],\n",
       "       [0.21187961],\n",
       "       [0.09049233],\n",
       "       [0.21187961],\n",
       "       [0.51504883],\n",
       "       [0.33306757],\n",
       "       [0.33306757],\n",
       "       [0.51504883],\n",
       "       [0.57564281],\n",
       "       [0.27227427],\n",
       "       [0.39386087],\n",
       "       [0.39386087],\n",
       "       [0.51504883],\n",
       "       [0.15108631],\n",
       "       [0.15108631],\n",
       "       [0.51504883],\n",
       "       [0.09049233],\n",
       "       [0.39386087],\n",
       "       [0.09049233],\n",
       "       [0.2421766 ],\n",
       "       [0.33306757],\n",
       "       [0.45425553],\n",
       "       [0.81821806],\n",
       "       [0.33306757],\n",
       "       [0.39386087],\n",
       "       [0.45425553],\n",
       "       [0.75742476],\n",
       "       [0.90910903],\n",
       "       [0.21187961],\n",
       "       [0.27227427],\n",
       "       [0.39386087],\n",
       "       [0.33306757],\n",
       "       [0.39386087],\n",
       "       [0.12098864],\n",
       "       [0.12098864],\n",
       "       [0.21187961],\n",
       "       [0.18178194],\n",
       "       [0.06039466],\n",
       "       [0.15108631],\n",
       "       [0.12098864],\n",
       "       [0.2421766 ],\n",
       "       [0.06039466],\n",
       "       [0.12098864],\n",
       "       [0.09049233],\n",
       "       [0.27227427],\n",
       "       [0.16942396],\n",
       "       [0.15108631],\n",
       "       [0.15108631],\n",
       "       [0.        ],\n",
       "       [0.18178194],\n",
       "       [0.12098864],\n",
       "       [0.39386087],\n",
       "       [0.39386087],\n",
       "       [0.12098864],\n",
       "       [0.06039466],\n",
       "       [0.09049233],\n",
       "       [0.15108631],\n",
       "       [0.15108631]])"
      ]
     },
     "execution_count": 9,
     "metadata": {},
     "output_type": "execute_result"
    }
   ],
   "source": [
    "normalized_data_frame #display the scaled data"
   ]
  },
  {
   "cell_type": "markdown",
   "id": "b01be5a2",
   "metadata": {},
   "source": [
    "# Apply data clustering"
   ]
  },
  {
   "cell_type": "code",
   "execution_count": 10,
   "id": "f45f12ae",
   "metadata": {},
   "outputs": [],
   "source": [
    "from sklearn.cluster import KMeans #apply KMeans clustering algorithm on the normalized DataFrame with 10 clusters"
   ]
  },
  {
   "cell_type": "code",
   "execution_count": 11,
   "id": "fb95aee8",
   "metadata": {},
   "outputs": [],
   "source": [
    "kmeans = KMeans(n_clusters = 10, random_state = 0).fit(normalized_data_frame)\n",
    "labels = kmeans.labels_ #retrieve cluster labels\n",
    "centroids = pd.DataFrame(kmeans.cluster_centers_, columns = features_to_scale) #create a DataFrame of cluster centroids"
   ]
  },
  {
   "cell_type": "code",
   "execution_count": 12,
   "id": "de41cd17",
   "metadata": {},
   "outputs": [],
   "source": [
    "data_frame['Cluster'] = labels #Add a new 'Cluster' column to the original DataFrame with cluster columns"
   ]
  },
  {
   "cell_type": "code",
   "execution_count": 13,
   "id": "fd7c90d0",
   "metadata": {},
   "outputs": [
    {
     "data": {
      "text/html": [
       "<div>\n",
       "<style scoped>\n",
       "    .dataframe tbody tr th:only-of-type {\n",
       "        vertical-align: middle;\n",
       "    }\n",
       "\n",
       "    .dataframe tbody tr th {\n",
       "        vertical-align: top;\n",
       "    }\n",
       "\n",
       "    .dataframe thead th {\n",
       "        text-align: right;\n",
       "    }\n",
       "</style>\n",
       "<table border=\"1\" class=\"dataframe\">\n",
       "  <thead>\n",
       "    <tr style=\"text-align: right;\">\n",
       "      <th></th>\n",
       "      <th>Activity (1H)</th>\n",
       "      <th>Calories per kg</th>\n",
       "      <th>Cluster</th>\n",
       "    </tr>\n",
       "  </thead>\n",
       "  <tbody>\n",
       "    <tr>\n",
       "      <th>0</th>\n",
       "      <td>Cycling, mountain bike, bmx</td>\n",
       "      <td>1.750730</td>\n",
       "      <td>7</td>\n",
       "    </tr>\n",
       "    <tr>\n",
       "      <th>1</th>\n",
       "      <td>Cycling, &lt;10 mph, leisure bicycling</td>\n",
       "      <td>0.823236</td>\n",
       "      <td>0</td>\n",
       "    </tr>\n",
       "    <tr>\n",
       "      <th>2</th>\n",
       "      <td>Cycling, &gt;20 mph, racing</td>\n",
       "      <td>3.294974</td>\n",
       "      <td>3</td>\n",
       "    </tr>\n",
       "    <tr>\n",
       "      <th>3</th>\n",
       "      <td>Cycling, 10-11.9 mph, light</td>\n",
       "      <td>1.234853</td>\n",
       "      <td>5</td>\n",
       "    </tr>\n",
       "    <tr>\n",
       "      <th>4</th>\n",
       "      <td>Cycling, 12-13.9 mph, moderate</td>\n",
       "      <td>1.647825</td>\n",
       "      <td>7</td>\n",
       "    </tr>\n",
       "    <tr>\n",
       "      <th>...</th>\n",
       "      <td>...</td>\n",
       "      <td>...</td>\n",
       "      <td>...</td>\n",
       "    </tr>\n",
       "    <tr>\n",
       "      <th>243</th>\n",
       "      <td>General cleaning</td>\n",
       "      <td>0.721008</td>\n",
       "      <td>0</td>\n",
       "    </tr>\n",
       "    <tr>\n",
       "      <th>244</th>\n",
       "      <td>Cleaning, dusting</td>\n",
       "      <td>0.515199</td>\n",
       "      <td>6</td>\n",
       "    </tr>\n",
       "    <tr>\n",
       "      <th>245</th>\n",
       "      <td>Taking out trash</td>\n",
       "      <td>0.617427</td>\n",
       "      <td>6</td>\n",
       "    </tr>\n",
       "    <tr>\n",
       "      <th>246</th>\n",
       "      <td>Walking, pushing a wheelchair</td>\n",
       "      <td>0.823236</td>\n",
       "      <td>0</td>\n",
       "    </tr>\n",
       "    <tr>\n",
       "      <th>247</th>\n",
       "      <td>Teach physical education,exercise class</td>\n",
       "      <td>0.823236</td>\n",
       "      <td>0</td>\n",
       "    </tr>\n",
       "  </tbody>\n",
       "</table>\n",
       "<p>248 rows × 3 columns</p>\n",
       "</div>"
      ],
      "text/plain": [
       "                               Activity (1H)  Calories per kg  Cluster\n",
       "0                Cycling, mountain bike, bmx         1.750730        7\n",
       "1        Cycling, <10 mph, leisure bicycling         0.823236        0\n",
       "2                   Cycling, >20 mph, racing         3.294974        3\n",
       "3                Cycling, 10-11.9 mph, light         1.234853        5\n",
       "4             Cycling, 12-13.9 mph, moderate         1.647825        7\n",
       "..                                       ...              ...      ...\n",
       "243                         General cleaning         0.721008        0\n",
       "244                        Cleaning, dusting         0.515199        6\n",
       "245                         Taking out trash         0.617427        6\n",
       "246            Walking, pushing a wheelchair         0.823236        0\n",
       "247  Teach physical education,exercise class         0.823236        0\n",
       "\n",
       "[248 rows x 3 columns]"
      ]
     },
     "execution_count": 13,
     "metadata": {},
     "output_type": "execute_result"
    }
   ],
   "source": [
    "data_frame #display the updated DataFrame"
   ]
  },
  {
   "cell_type": "markdown",
   "id": "6e38d39f",
   "metadata": {},
   "source": [
    "# Display the number of instances in each cluster"
   ]
  },
  {
   "cell_type": "code",
   "execution_count": 14,
   "id": "20e3b285",
   "metadata": {},
   "outputs": [
    {
     "data": {
      "text/plain": [
       "0    42\n",
       "1    21\n",
       "2    27\n",
       "3     8\n",
       "4    14\n",
       "5    26\n",
       "6    40\n",
       "7    44\n",
       "8     3\n",
       "9    23\n",
       "Name: Cluster, dtype: int64"
      ]
     },
     "execution_count": 14,
     "metadata": {},
     "output_type": "execute_result"
    }
   ],
   "source": [
    "#count the number of instances in each cluster and sort them in ascending order of the 'Calories per kg'\n",
    "cluster_counts = data_frame['Cluster'].value_counts().sort_index() \n",
    "cluster_counts"
   ]
  },
  {
   "cell_type": "code",
   "execution_count": 15,
   "id": "b4894cc7",
   "metadata": {},
   "outputs": [],
   "source": [
    "#take exercise from each cluster in delivering output based on sugar levels."
   ]
  },
  {
   "cell_type": "markdown",
   "id": "736c13ed",
   "metadata": {},
   "source": [
    "# Sort the cluster data based on the centroids"
   ]
  },
  {
   "cell_type": "code",
   "execution_count": 16,
   "id": "f6cc9e5f",
   "metadata": {},
   "outputs": [],
   "source": [
    "#rorder the cluster labels and centroids based on 'Calories per kg'\n",
    "cluster_order = centroids.sort_values(by='Calories per kg').index.values"
   ]
  },
  {
   "cell_type": "code",
   "execution_count": 17,
   "id": "6c25a8e7",
   "metadata": {},
   "outputs": [],
   "source": [
    "labels = np.array([np.where(cluster_order==label)[0][0] for label in labels])"
   ]
  },
  {
   "cell_type": "code",
   "execution_count": 18,
   "id": "f5e822e8",
   "metadata": {},
   "outputs": [],
   "source": [
    "centroids = centroids.loc[cluster_order]"
   ]
  },
  {
   "cell_type": "code",
   "execution_count": 19,
   "id": "23906494",
   "metadata": {},
   "outputs": [],
   "source": [
    "#Update the 'Cluster' column in the DataFrame with the reordered cluster labels and count instances per cluster\n",
    "data_frame['Cluster'] = labels"
   ]
  },
  {
   "cell_type": "code",
   "execution_count": 20,
   "id": "4216d453",
   "metadata": {},
   "outputs": [],
   "source": [
    "cluster_counts = data_frame['Cluster'].value_counts().sort_index()"
   ]
  },
  {
   "cell_type": "code",
   "execution_count": 21,
   "id": "69666cd2",
   "metadata": {},
   "outputs": [
    {
     "name": "stdout",
     "output_type": "stream",
     "text": [
      "0    40\n",
      "1    42\n",
      "2    23\n",
      "3    26\n",
      "4    27\n",
      "5    44\n",
      "6    21\n",
      "7    14\n",
      "8     3\n",
      "9     8\n",
      "Name: Cluster, dtype: int64\n"
     ]
    }
   ],
   "source": [
    "print(cluster_counts)"
   ]
  },
  {
   "cell_type": "markdown",
   "id": "4108ee2b",
   "metadata": {},
   "source": [
    "# Save the data frame into a CSV file"
   ]
  },
  {
   "cell_type": "code",
   "execution_count": 22,
   "id": "be47b49a",
   "metadata": {},
   "outputs": [],
   "source": [
    "data_frame.to_csv('exercise_csvfile.csv', index = False) #save the updated DataFrame to the CSV file wihtout the index column"
   ]
  }
 ],
 "metadata": {
  "kernelspec": {
   "display_name": "Python 3 (ipykernel)",
   "language": "python",
   "name": "python3"
  },
  "language_info": {
   "codemirror_mode": {
    "name": "ipython",
    "version": 3
   },
   "file_extension": ".py",
   "mimetype": "text/x-python",
   "name": "python",
   "nbconvert_exporter": "python",
   "pygments_lexer": "ipython3",
   "version": "3.9.13"
  }
 },
 "nbformat": 4,
 "nbformat_minor": 5
}
